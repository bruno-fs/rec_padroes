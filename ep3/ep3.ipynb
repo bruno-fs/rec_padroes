{
 "metadata": {
  "name": "",
  "signature": "sha256:625eb2be31cbbcedfbfe9a111a06df83826c4b9a4d75ee8faf14953d733380bd"
 },
 "nbformat": 3,
 "nbformat_minor": 0,
 "worksheets": [
  {
   "cells": [
    {
     "cell_type": "markdown",
     "metadata": {},
     "source": [
      "# EP3 - Agrupamento Hier\u00e1rquico\n",
      "## Instru\u00e7\u00f5es\n",
      "[notebook do professor](http://nbviewer.ipython.org/urls/dl.dropbox.com/s/8imlflduqimkvy6/enunciado_final.ipynb?dl=0)"
     ]
    },
    {
     "cell_type": "code",
     "collapsed": false,
     "input": [
      "%matplotlib inline\n",
      "import matplotlib.pyplot as plt\n",
      "import numpy as np"
     ],
     "language": "python",
     "metadata": {},
     "outputs": [],
     "prompt_number": 1
    },
    {
     "cell_type": "markdown",
     "metadata": {},
     "source": [
      "## Loading Data"
     ]
    },
    {
     "cell_type": "code",
     "collapsed": false,
     "input": [
      "# importando os dados\n",
      "import pandas as pd\n",
      "Data = pd.read_csv('http://www.molbiolcell.org/content/suppl/2003/09/24/9.12.3273.DC1/CDCDATA.txt', \n",
      "                   sep='\\t', \n",
      "                   skip_blank_lines=True,\n",
      "                   )"
     ],
     "language": "python",
     "metadata": {},
     "outputs": [],
     "prompt_number": 2
    },
    {
     "cell_type": "code",
     "collapsed": false,
     "input": [
      "# no python 3, com o comando\n",
      "# a, *b = lista\n",
      "# 'a' recebe o primeiro elemento de lista enquanto 'b' recebe os demais\n",
      "genes, *dados = Data.columns"
     ],
     "language": "python",
     "metadata": {},
     "outputs": [],
     "prompt_number": 3
    },
    {
     "cell_type": "code",
     "collapsed": false,
     "input": [
      "Data[genes].head()"
     ],
     "language": "python",
     "metadata": {},
     "outputs": [
      {
       "metadata": {},
       "output_type": "pyout",
       "prompt_number": 4,
       "text": [
        "0    YAL001C\n",
        "1    YAL002W\n",
        "2    YAL003W\n",
        "3    YAL004W\n",
        "4    YAL005C\n",
        "Name: Unnamed: 0, dtype: object"
       ]
      }
     ],
     "prompt_number": 4
    },
    {
     "cell_type": "code",
     "collapsed": false,
     "input": [
      "Data[dados].head()"
     ],
     "language": "python",
     "metadata": {},
     "outputs": [
      {
       "html": [
        "<div style=\"max-height:1000px;max-width:1500px;overflow:auto;\">\n",
        "<table border=\"1\" class=\"dataframe\">\n",
        "  <thead>\n",
        "    <tr style=\"text-align: right;\">\n",
        "      <th></th>\n",
        "      <th>cln3 experiment1</th>\n",
        "      <th>cln3 experiment2</th>\n",
        "      <th>clb2 experiment2</th>\n",
        "      <th>clb2 experiment1</th>\n",
        "      <th>alpha 0min</th>\n",
        "      <th>alpha 7min</th>\n",
        "      <th>alpha 14min</th>\n",
        "      <th>alpha 21min</th>\n",
        "      <th>alpha 28min</th>\n",
        "      <th>alpha 35min</th>\n",
        "      <th>...</th>\n",
        "      <th>elu 120min</th>\n",
        "      <th>elu 150min</th>\n",
        "      <th>elu 180min</th>\n",
        "      <th>elu 210min</th>\n",
        "      <th>elu 240min</th>\n",
        "      <th>elu 270min</th>\n",
        "      <th>elu 300min</th>\n",
        "      <th>elu 330min</th>\n",
        "      <th>elu 360min</th>\n",
        "      <th>elu 390min</th>\n",
        "    </tr>\n",
        "  </thead>\n",
        "  <tbody>\n",
        "    <tr>\n",
        "      <th>0</th>\n",
        "      <td> 0.15</td>\n",
        "      <td>  NaN</td>\n",
        "      <td>-0.22</td>\n",
        "      <td> 0.07</td>\n",
        "      <td>-0.15</td>\n",
        "      <td>-0.15</td>\n",
        "      <td>-0.21</td>\n",
        "      <td> 0.17</td>\n",
        "      <td>-0.42</td>\n",
        "      <td>-0.44</td>\n",
        "      <td>...</td>\n",
        "      <td>-0.24</td>\n",
        "      <td> 0.11</td>\n",
        "      <td>-0.12</td>\n",
        "      <td> 0.37</td>\n",
        "      <td> 0.07</td>\n",
        "      <td>-0.09</td>\n",
        "      <td>-0.32</td>\n",
        "      <td> 0.04</td>\n",
        "      <td>-0.48</td>\n",
        "      <td> 0.04</td>\n",
        "    </tr>\n",
        "    <tr>\n",
        "      <th>1</th>\n",
        "      <td>-0.07</td>\n",
        "      <td>-0.76</td>\n",
        "      <td>-0.12</td>\n",
        "      <td>-0.25</td>\n",
        "      <td>-0.11</td>\n",
        "      <td> 0.10</td>\n",
        "      <td> 0.01</td>\n",
        "      <td> 0.06</td>\n",
        "      <td> 0.04</td>\n",
        "      <td>-0.26</td>\n",
        "      <td>...</td>\n",
        "      <td> 0.03</td>\n",
        "      <td>-0.08</td>\n",
        "      <td>-0.13</td>\n",
        "      <td>-0.21</td>\n",
        "      <td>-0.06</td>\n",
        "      <td>-0.10</td>\n",
        "      <td>-0.19</td>\n",
        "      <td> 0.08</td>\n",
        "      <td> 0.01</td>\n",
        "      <td>-0.02</td>\n",
        "    </tr>\n",
        "    <tr>\n",
        "      <th>2</th>\n",
        "      <td>-1.22</td>\n",
        "      <td>-0.27</td>\n",
        "      <td>-0.10</td>\n",
        "      <td> 0.23</td>\n",
        "      <td>-0.14</td>\n",
        "      <td>-0.71</td>\n",
        "      <td> 0.10</td>\n",
        "      <td>-0.32</td>\n",
        "      <td>-0.40</td>\n",
        "      <td>-0.58</td>\n",
        "      <td>...</td>\n",
        "      <td> 0.18</td>\n",
        "      <td> 0.28</td>\n",
        "      <td> 0.15</td>\n",
        "      <td> 0.40</td>\n",
        "      <td> 0.24</td>\n",
        "      <td> 0.22</td>\n",
        "      <td>-0.27</td>\n",
        "      <td>-0.10</td>\n",
        "      <td> 0.34</td>\n",
        "      <td> 0.02</td>\n",
        "    </tr>\n",
        "    <tr>\n",
        "      <th>3</th>\n",
        "      <td>-0.09</td>\n",
        "      <td> 1.20</td>\n",
        "      <td> 0.16</td>\n",
        "      <td>-0.14</td>\n",
        "      <td>-0.02</td>\n",
        "      <td>-0.48</td>\n",
        "      <td>-0.11</td>\n",
        "      <td> 0.12</td>\n",
        "      <td>-0.03</td>\n",
        "      <td> 0.19</td>\n",
        "      <td>...</td>\n",
        "      <td>-0.15</td>\n",
        "      <td>-0.73</td>\n",
        "      <td>-0.79</td>\n",
        "      <td>-0.20</td>\n",
        "      <td> 0.34</td>\n",
        "      <td> 0.07</td>\n",
        "      <td>-0.59</td>\n",
        "      <td> 0.35</td>\n",
        "      <td> 0.66</td>\n",
        "      <td> 0.32</td>\n",
        "    </tr>\n",
        "    <tr>\n",
        "      <th>4</th>\n",
        "      <td>-0.60</td>\n",
        "      <td> 1.01</td>\n",
        "      <td> 0.24</td>\n",
        "      <td> 0.65</td>\n",
        "      <td>-0.05</td>\n",
        "      <td>-0.53</td>\n",
        "      <td>-0.47</td>\n",
        "      <td>-0.06</td>\n",
        "      <td> 0.11</td>\n",
        "      <td>-0.07</td>\n",
        "      <td>...</td>\n",
        "      <td>-0.45</td>\n",
        "      <td>-0.83</td>\n",
        "      <td>-0.26</td>\n",
        "      <td>-0.16</td>\n",
        "      <td> 0.30</td>\n",
        "      <td> 0.21</td>\n",
        "      <td>-0.43</td>\n",
        "      <td> 0.21</td>\n",
        "      <td> 0.60</td>\n",
        "      <td> 0.65</td>\n",
        "    </tr>\n",
        "  </tbody>\n",
        "</table>\n",
        "<p>5 rows \u00d7 77 columns</p>\n",
        "</div>"
       ],
       "metadata": {},
       "output_type": "pyout",
       "prompt_number": 5,
       "text": [
        "   cln3 experiment1  cln3 experiment2  clb2 experiment2  clb2 experiment1  \\\n",
        "0              0.15               NaN             -0.22              0.07   \n",
        "1             -0.07             -0.76             -0.12             -0.25   \n",
        "2             -1.22             -0.27             -0.10              0.23   \n",
        "3             -0.09              1.20              0.16             -0.14   \n",
        "4             -0.60              1.01              0.24              0.65   \n",
        "\n",
        "   alpha 0min  alpha 7min  alpha 14min  alpha 21min  alpha 28min  alpha 35min  \\\n",
        "0       -0.15       -0.15        -0.21         0.17        -0.42        -0.44   \n",
        "1       -0.11        0.10         0.01         0.06         0.04        -0.26   \n",
        "2       -0.14       -0.71         0.10        -0.32        -0.40        -0.58   \n",
        "3       -0.02       -0.48        -0.11         0.12        -0.03         0.19   \n",
        "4       -0.05       -0.53        -0.47        -0.06         0.11        -0.07   \n",
        "\n",
        "      ...      elu 120min  elu 150min  elu 180min  elu 210min  elu 240min  \\\n",
        "0     ...           -0.24        0.11       -0.12        0.37        0.07   \n",
        "1     ...            0.03       -0.08       -0.13       -0.21       -0.06   \n",
        "2     ...            0.18        0.28        0.15        0.40        0.24   \n",
        "3     ...           -0.15       -0.73       -0.79       -0.20        0.34   \n",
        "4     ...           -0.45       -0.83       -0.26       -0.16        0.30   \n",
        "\n",
        "   elu 270min  elu 300min  elu 330min  elu 360min  elu 390min  \n",
        "0       -0.09       -0.32        0.04       -0.48        0.04  \n",
        "1       -0.10       -0.19        0.08        0.01       -0.02  \n",
        "2        0.22       -0.27       -0.10        0.34        0.02  \n",
        "3        0.07       -0.59        0.35        0.66        0.32  \n",
        "4        0.21       -0.43        0.21        0.60        0.65  \n",
        "\n",
        "[5 rows x 77 columns]"
       ]
      }
     ],
     "prompt_number": 5
    },
    {
     "cell_type": "code",
     "collapsed": false,
     "input": [
      "D_GNames = Data[genes]\n",
      "D_Matrix = Data[dados]"
     ],
     "language": "python",
     "metadata": {},
     "outputs": [],
     "prompt_number": 6
    },
    {
     "cell_type": "code",
     "collapsed": false,
     "input": [
      "print ('Number of rows (Numerical Matrix): {0}'.format(D_Matrix.shape[0]))\n",
      "print ('Size of Numerical Matrix: {0}'.format(D_Matrix.shape))\n",
      "print ('Number of genes in Gene Name Array: {0}'.format(D_GNames.shape[0]))"
     ],
     "language": "python",
     "metadata": {},
     "outputs": [
      {
       "output_type": "stream",
       "stream": "stdout",
       "text": [
        "Number of rows (Numerical Matrix): 6178\n",
        "Size of Numerical Matrix: (6178, 77)\n",
        "Number of genes in Gene Name Array: 6178\n"
       ]
      }
     ],
     "prompt_number": 7
    },
    {
     "cell_type": "markdown",
     "metadata": {},
     "source": [
      "## Pre-processing\n",
      "\n",
      "### 1) filtra genes com mais de dois valores NaN"
     ]
    },
    {
     "cell_type": "code",
     "collapsed": false,
     "input": [
      "#filtra genes com mais de 2 NaN\n",
      "filtraNaN = Data.isnull().sum(axis=1) <= 2 # comando sugerido pelo Edgar\n",
      "Data[filtraNaN].shape[0]"
     ],
     "language": "python",
     "metadata": {},
     "outputs": [
      {
       "metadata": {},
       "output_type": "pyout",
       "prompt_number": 62,
       "text": [
        "4185"
       ]
      }
     ],
     "prompt_number": 62
    },
    {
     "cell_type": "markdown",
     "metadata": {},
     "source": [
      "###### curiosidade -- filtro de NaNs\n",
      "Apenas uma curiosidade, originalmente filtrei os NaNs com apply (vide pr\u00f3xima c\u00e9lula). \n",
      "O sugest\u00e3o do Edgar, al\u00e9m de \"enxuta\", \u00e9 mais de 100x mais r\u00e1pida que o apply!"
     ]
    },
    {
     "cell_type": "code",
     "collapsed": false,
     "input": [
      "%timeit -n15 Data.apply(lambda x: x.isnull().sum() <= 2, axis=1)"
     ],
     "language": "python",
     "metadata": {},
     "outputs": [
      {
       "output_type": "stream",
       "stream": "stdout",
       "text": [
        "15 loops, best of 3: 952 ms per loop\n"
       ]
      }
     ],
     "prompt_number": 56
    },
    {
     "cell_type": "code",
     "collapsed": false,
     "input": [
      "%timeit -n15 Data.isnull().sum(axis=1) <= 2"
     ],
     "language": "python",
     "metadata": {},
     "outputs": [
      {
       "output_type": "stream",
       "stream": "stdout",
       "text": [
        "15 loops, best of 3: 8.52 ms per loop\n"
       ]
      }
     ],
     "prompt_number": 57
    },
    {
     "cell_type": "code",
     "collapsed": false,
     "input": [
      "# matriz contendo somente os dados filtrados\n",
      "DD_Matrix = D_Matrix[filtraNaN]"
     ],
     "language": "python",
     "metadata": {},
     "outputs": [],
     "prompt_number": 63
    },
    {
     "cell_type": "markdown",
     "metadata": {},
     "source": [
      "### 2) Imputa\u00e7\u00e3o usando o algoritmo *KNN*"
     ]
    },
    {
     "cell_type": "code",
     "collapsed": false,
     "input": [],
     "language": "python",
     "metadata": {},
     "outputs": []
    }
   ],
   "metadata": {}
  }
 ]
}